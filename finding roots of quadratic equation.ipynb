{
 "cells": [
  {
   "cell_type": "code",
   "execution_count": null,
   "id": "071bdc66-57da-44c9-991f-435b4250a7bf",
   "metadata": {},
   "outputs": [],
   "source": [
    "import math\n",
    "userInput = input()\n",
    "\n",
    "arr = userInput.split()\n",
    "\n",
    "for i in range(len(arr)):\n",
    "    arr[i] = int(arr[i])\n",
    "    \n",
    "#Formula for solving quadratic equation\n",
    "\n",
    "X1 = (-arr[1] + math.sqrt((arr[1]**2 - 4*arr[0]*arr[2])))/(2*arr[0]) \n",
    "X2 = (-arr[1] - math.sqrt((arr[1]**2 - 4*arr[0]*arr[2])))/(2*arr[0])\n",
    "\n",
    "print(\"%.2f\" % X1) \n",
    "print(\"%.2f\" % X2)"
   ]
  }
 ],
 "metadata": {
  "kernelspec": {
   "display_name": "Python 3 (ipykernel)",
   "language": "python",
   "name": "python3"
  },
  "language_info": {
   "codemirror_mode": {
    "name": "ipython",
    "version": 3
   },
   "file_extension": ".py",
   "mimetype": "text/x-python",
   "name": "python",
   "nbconvert_exporter": "python",
   "pygments_lexer": "ipython3",
   "version": "3.12.4"
  }
 },
 "nbformat": 4,
 "nbformat_minor": 5
}
