{
 "cells": [
  {
   "cell_type": "code",
   "execution_count": null,
   "id": "cfe44eb4-f808-4bc5-a760-1ba48b4762b3",
   "metadata": {},
   "outputs": [],
   "source": [
    "#swaping with adjacent integer in a list\n",
    "\n",
    "n = int(input())\n",
    "\n",
    "ele = list(map(int,input().split()))\n",
    "\n",
    "for i in range(1,n,2):\n",
    "    ele[i], ele[i-1] = ele[i-1], ele[i]\n",
    "    \n",
    "print(\" \".join(map(str,ele)))"
   ]
  }
 ],
 "metadata": {
  "kernelspec": {
   "display_name": "Python 3 (ipykernel)",
   "language": "python",
   "name": "python3"
  },
  "language_info": {
   "codemirror_mode": {
    "name": "ipython",
    "version": 3
   },
   "file_extension": ".py",
   "mimetype": "text/x-python",
   "name": "python",
   "nbconvert_exporter": "python",
   "pygments_lexer": "ipython3",
   "version": "3.12.4"
  }
 },
 "nbformat": 4,
 "nbformat_minor": 5
}
