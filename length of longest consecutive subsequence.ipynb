{
 "cells": [
  {
   "cell_type": "code",
   "execution_count": null,
   "id": "055f6e1d-4b7c-4789-98ac-ed33f0ac24e6",
   "metadata": {},
   "outputs": [],
   "source": [
    "# You are given an array.Your task is to print the length of longest consecutive subsequence. A longest consecutive subsequence is such that next element differ from previous by 1.\n",
    "# Input Description:\n",
    "# You are given with the length of array. Next line contains n space separated integers.\n",
    "\n",
    "# Output Description:\n",
    "# Print the length of longest consecutive subsequence.\n",
    "\n",
    "# Sample Input :\n",
    "# 8\n",
    "# 1 6 5 3 2 4 10 12\n",
    "# Sample Output :\n",
    "# 6\n",
    "\n",
    "n = int(input())\n",
    "\n",
    "ele = list(map(int,input().split()))\n",
    "\n",
    "ele.sort()\n",
    "\n",
    "res = []\n",
    "for i in range(1,len(ele)):\n",
    "    if ele[i] - ele[i-1] == 1:\n",
    "        res.append(ele[i-1])\n",
    "print(len(res)+1)"
   ]
  }
 ],
 "metadata": {
  "kernelspec": {
   "display_name": "Python 3 (ipykernel)",
   "language": "python",
   "name": "python3"
  },
  "language_info": {
   "codemirror_mode": {
    "name": "ipython",
    "version": 3
   },
   "file_extension": ".py",
   "mimetype": "text/x-python",
   "name": "python",
   "nbconvert_exporter": "python",
   "pygments_lexer": "ipython3",
   "version": "3.12.4"
  }
 },
 "nbformat": 4,
 "nbformat_minor": 5
}
