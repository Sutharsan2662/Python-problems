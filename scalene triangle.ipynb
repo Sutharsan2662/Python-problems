{
 "cells": [
  {
   "cell_type": "code",
   "execution_count": null,
   "id": "96068876-05af-4c20-adc6-9a679b2cf408",
   "metadata": {},
   "outputs": [],
   "source": [
    "#scalene triangle\n",
    "a,b,c = map(int,input().split())\n",
    "\n",
    "if a != b != c:\n",
    "    print('yes')\n",
    "else:\n",
    "    print('no')"
   ]
  }
 ],
 "metadata": {
  "kernelspec": {
   "display_name": "Python 3 (ipykernel)",
   "language": "python",
   "name": "python3"
  },
  "language_info": {
   "codemirror_mode": {
    "name": "ipython",
    "version": 3
   },
   "file_extension": ".py",
   "mimetype": "text/x-python",
   "name": "python",
   "nbconvert_exporter": "python",
   "pygments_lexer": "ipython3",
   "version": "3.12.4"
  }
 },
 "nbformat": 4,
 "nbformat_minor": 5
}
