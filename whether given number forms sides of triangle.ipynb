{
 "cells": [
  {
   "cell_type": "code",
   "execution_count": null,
   "id": "1ef2c2e9-c119-4bf4-8a7f-c45cb4b61ae3",
   "metadata": {},
   "outputs": [],
   "source": [
    "#print yes if they form sides of triangle\n",
    "a,b,c = map(int,input().split())\n",
    "\n",
    "if a+b > c and b+c > a and a+c > b:\n",
    "    print('yes')\n",
    "elif a == b == c: \n",
    "    print('yes')\n",
    "else:\n",
    "    print('no')\n",
    "\n",
    "    \n"
   ]
  }
 ],
 "metadata": {
  "kernelspec": {
   "display_name": "Python 3 (ipykernel)",
   "language": "python",
   "name": "python3"
  },
  "language_info": {
   "codemirror_mode": {
    "name": "ipython",
    "version": 3
   },
   "file_extension": ".py",
   "mimetype": "text/x-python",
   "name": "python",
   "nbconvert_exporter": "python",
   "pygments_lexer": "ipython3",
   "version": "3.12.4"
  }
 },
 "nbformat": 4,
 "nbformat_minor": 5
}
