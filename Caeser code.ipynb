{
 "cells": [
  {
   "cell_type": "code",
   "execution_count": 1,
   "id": "66a6fa4c-fcd0-460e-803e-37c693325401",
   "metadata": {},
   "outputs": [
    {
     "name": "stdin",
     "output_type": "stream",
     "text": [
      " ABC 2\n"
     ]
    },
    {
     "name": "stdout",
     "output_type": "stream",
     "text": [
      "CDE\n"
     ]
    }
   ],
   "source": [
    "# The Caesar Cipher technique is one of the earliest and simplest method of encryption technique. It’s simply a type of substitution cipher, i.e., each letter of a given text is replaced by a letter some fixed number of positions down the alphabet. For example with a shift of 1, A would be replaced by B, B would become C, and so on. The method is apparently named after Julius Caesar, who apparently used it to communicate with his officials.For the given input string(S) and shift print the encrypted string.\n",
    "# Sample Testcase :\n",
    "# INPUT\n",
    "# ABCdEFGHIJKLMNOPQRSTUVWXYz 23\n",
    "# OUTPUT\n",
    "# XYZaBCDEFGHIJKLMNOPQRSTUVw\n",
    "\n",
    "a, b = input().split()\n",
    "b = int(b)\n",
    "a = list(a)\n",
    "\n",
    "for i in range(len(a)):\n",
    "    char = a[i]\n",
    "    if 'a' <= char <= 'z':  # Check if lowercase\n",
    "        new_char = chr(((ord(char) - ord('a') + b) % 26) + ord('a'))\n",
    "        a[i] = new_char\n",
    "    elif 'A' <= char <= 'Z':  # Check if uppercase\n",
    "        new_char = chr(((ord(char) - ord('A') + b) % 26) + ord('A'))\n",
    "        a[i] = new_char\n",
    "\n",
    "print(\"\".join(a))\n",
    "\n"
   ]
  },
  {
   "cell_type": "code",
   "execution_count": null,
   "id": "9c0b6d17-78ca-4e2f-b3f4-5962ce9db381",
   "metadata": {},
   "outputs": [],
   "source": []
  }
 ],
 "metadata": {
  "kernelspec": {
   "display_name": "Python 3 (ipykernel)",
   "language": "python",
   "name": "python3"
  },
  "language_info": {
   "codemirror_mode": {
    "name": "ipython",
    "version": 3
   },
   "file_extension": ".py",
   "mimetype": "text/x-python",
   "name": "python",
   "nbconvert_exporter": "python",
   "pygments_lexer": "ipython3",
   "version": "3.12.4"
  }
 },
 "nbformat": 4,
 "nbformat_minor": 5
}
