{
 "cells": [
  {
   "cell_type": "code",
   "execution_count": null,
   "id": "7815cda3-9b0c-4185-bcab-c2ad63c0921f",
   "metadata": {},
   "outputs": [],
   "source": [
    "#Write a code to get a integer n as input and calculate the smallest perfect power of 2 greater than n.\n",
    "# Input Description:\n",
    "# A single line containing an integer,n.\n",
    "\n",
    "# Output Description:\n",
    "# Print the smallest perfect power of 2 greater than n.\n",
    "\n",
    "# Sample Input :\n",
    "# 48\n",
    "# Sample Output :\n",
    "# 64\n",
    "n = int(input())\n",
    "\n",
    "power = 1\n",
    "while power <= n:\n",
    "   power = power*2\n",
    "print(power)"
   ]
  }
 ],
 "metadata": {
  "kernelspec": {
   "display_name": "Python 3 (ipykernel)",
   "language": "python",
   "name": "python3"
  },
  "language_info": {
   "codemirror_mode": {
    "name": "ipython",
    "version": 3
   },
   "file_extension": ".py",
   "mimetype": "text/x-python",
   "name": "python",
   "nbconvert_exporter": "python",
   "pygments_lexer": "ipython3",
   "version": "3.12.4"
  }
 },
 "nbformat": 4,
 "nbformat_minor": 5
}
