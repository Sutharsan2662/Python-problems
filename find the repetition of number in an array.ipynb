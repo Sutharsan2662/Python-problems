{
 "cells": [
  {
   "cell_type": "code",
   "execution_count": null,
   "id": "98210a46-27a7-46c8-be6d-a164fcbcf43b",
   "metadata": {},
   "outputs": [],
   "source": [
    "# Given 2 numbers N and K followed by N elements,print the number of repetition of K otherwise print '-1' if the element not found.\n",
    "# Sample Testcase :\n",
    "# INPUT\n",
    "# 6 2\n",
    "# 1 2 3 5 7 8\n",
    "# OUTPUT\n",
    "# 0\n",
    "n,k = map(int,input().split())\n",
    "\n",
    "ele = map(int,input().split())\n",
    "\n",
    "res = 0\n",
    "found = False\n",
    "\n",
    "for item in ele:\n",
    "    if item == k:\n",
    "        res += res\n",
    "        found = True\n",
    "\n",
    "if found:\n",
    "    print(res)\n",
    "else:\n",
    "    print(-1)"
   ]
  }
 ],
 "metadata": {
  "kernelspec": {
   "display_name": "Python 3 (ipykernel)",
   "language": "python",
   "name": "python3"
  },
  "language_info": {
   "codemirror_mode": {
    "name": "ipython",
    "version": 3
   },
   "file_extension": ".py",
   "mimetype": "text/x-python",
   "name": "python",
   "nbconvert_exporter": "python",
   "pygments_lexer": "ipython3",
   "version": "3.12.4"
  }
 },
 "nbformat": 4,
 "nbformat_minor": 5
}
