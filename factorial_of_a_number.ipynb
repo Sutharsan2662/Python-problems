{
 "cells": [
  {
   "cell_type": "code",
   "execution_count": 1,
   "id": "25f946ad-7bdd-4b4e-96e8-2bd70464baf7",
   "metadata": {},
   "outputs": [
    {
     "name": "stdin",
     "output_type": "stream",
     "text": [
      " 4\n"
     ]
    },
    {
     "name": "stdout",
     "output_type": "stream",
     "text": [
      "24\n"
     ]
    }
   ],
   "source": [
    "#Getting input via STDIN\n",
    "def fact(num):\n",
    "    if num < 2:\n",
    "        return 1  # The factorial of 0 or 1 is 1\n",
    "    else:\n",
    "        return num * fact(num - 1)  # Multiply num by the factorial of (num-1)\n",
    "\n",
    "# Take input and convert it to an integer\n",
    "userInput = int(input())\n",
    "\n",
    "# Call the factorial function\n",
    "N = fact(userInput)\n",
    "\n",
    "# Print the result\n",
    "print(N)\n"
   ]
  },
  {
   "cell_type": "code",
   "execution_count": null,
   "id": "f6ac2147-ff07-4dd5-9833-f67e1a9ca305",
   "metadata": {},
   "outputs": [],
   "source": []
  }
 ],
 "metadata": {
  "kernelspec": {
   "display_name": "Python 3 (ipykernel)",
   "language": "python",
   "name": "python3"
  },
  "language_info": {
   "codemirror_mode": {
    "name": "ipython",
    "version": 3
   },
   "file_extension": ".py",
   "mimetype": "text/x-python",
   "name": "python",
   "nbconvert_exporter": "python",
   "pygments_lexer": "ipython3",
   "version": "3.12.4"
  }
 },
 "nbformat": 4,
 "nbformat_minor": 5
}
