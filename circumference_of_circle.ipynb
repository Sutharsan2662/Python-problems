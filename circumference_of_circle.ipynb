{
 "cells": [
  {
   "cell_type": "code",
   "execution_count": null,
   "id": "4ad6cf62-1f91-4e7c-b950-59d8ddc7fb13",
   "metadata": {},
   "outputs": [],
   "source": [
    "#circumference of circle\n",
    "import math\n",
    "userInput = float(input())\n",
    "\n",
    "def circumference_of_circle(radius):\n",
    "    perimeter = 2.0*math.pi*radius\n",
    "    return round(perimeter, 2)\n",
    "    \n",
    "print(circumference_of_circle(userInput))"
   ]
  }
 ],
 "metadata": {
  "kernelspec": {
   "display_name": "Python 3 (ipykernel)",
   "language": "python",
   "name": "python3"
  },
  "language_info": {
   "codemirror_mode": {
    "name": "ipython",
    "version": 3
   },
   "file_extension": ".py",
   "mimetype": "text/x-python",
   "name": "python",
   "nbconvert_exporter": "python",
   "pygments_lexer": "ipython3",
   "version": "3.12.4"
  }
 },
 "nbformat": 4,
 "nbformat_minor": 5
}
