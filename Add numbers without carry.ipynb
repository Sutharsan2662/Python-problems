{
 "cells": [
  {
   "cell_type": "code",
   "execution_count": null,
   "id": "3f501e2e-9cba-444f-af1b-5da6c174098c",
   "metadata": {},
   "outputs": [],
   "source": [
    "#add two numbers without carry\n",
    "n,m = map(int,input().split())\n",
    "\n",
    "res = 0\n",
    "place_val = 1\n",
    "while n>0 or m>0:\n",
    "    \n",
    "    add = (n%10 + m%10) % 10\n",
    "    res += add*place_val\n",
    "    n //= 10\n",
    "    m //= 10\n",
    "    place_val *= 10\n",
    "\n",
    "print(res)"
   ]
  }
 ],
 "metadata": {
  "kernelspec": {
   "display_name": "Python 3 (ipykernel)",
   "language": "python",
   "name": "python3"
  },
  "language_info": {
   "codemirror_mode": {
    "name": "ipython",
    "version": 3
   },
   "file_extension": ".py",
   "mimetype": "text/x-python",
   "name": "python",
   "nbconvert_exporter": "python",
   "pygments_lexer": "ipython3",
   "version": "3.12.4"
  }
 },
 "nbformat": 4,
 "nbformat_minor": 5
}
