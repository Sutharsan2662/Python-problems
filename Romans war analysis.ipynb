{
 "cells": [
  {
   "cell_type": "code",
   "execution_count": null,
   "id": "077fdb14-e419-417c-9c0b-046b60b7fd5e",
   "metadata": {},
   "outputs": [],
   "source": [
    "# The Romans have attacked again. This time they are much more than the Persians but Shapur is ready to defeat them. He says: 'A lion is never afraid of a hundred sheep'.\n",
    "\n",
    "# Nevertheless Shapur has to find weaknesses in the Roman army to defeat them. So he gives the army a weakness number.\n",
    "\n",
    "# In Shapur's opinion the weakness of an army is equal to the number of triplets i, j, k such that i < j < k and ai > aj > ak where ax is the power of man standing at position x. The Roman army has one special trait — powers of all the people in it are distinct.\n",
    "\n",
    "# Help Shapur find out how weak the Romans are.\n",
    "\n",
    "# The first line of input contains a single number n, the number of men in Roman army. Next line contains n different positive integers powers of men in the Roman army.\n",
    "# Input Size : N<=100000\n",
    "# Example:\n",
    "# INPUT\n",
    "# 3\n",
    "# 3 2 1\n",
    "# OUTPUT\n",
    "# 1\n",
    "\n",
    "a = int(input())\n",
    "\n",
    "weak = list(map(int,input().split()))\n",
    "\n",
    "res = weak[0]\n",
    "for i in range(1,len(weak)):\n",
    "    if res > weak[i]:\n",
    "        ans = weak[i]\n",
    "    else:\n",
    "        ans = 0\n",
    "        break\n",
    "\n",
    "print(ans)"
   ]
  }
 ],
 "metadata": {
  "kernelspec": {
   "display_name": "Python 3 (ipykernel)",
   "language": "python",
   "name": "python3"
  },
  "language_info": {
   "codemirror_mode": {
    "name": "ipython",
    "version": 3
   },
   "file_extension": ".py",
   "mimetype": "text/x-python",
   "name": "python",
   "nbconvert_exporter": "python",
   "pygments_lexer": "ipython3",
   "version": "3.12.4"
  }
 },
 "nbformat": 4,
 "nbformat_minor": 5
}
