{
 "cells": [
  {
   "cell_type": "code",
   "execution_count": null,
   "id": "e24cb483-8b10-4e6b-b690-7626775bfb2e",
   "metadata": {},
   "outputs": [],
   "source": [
    "#LCM of n numbers\n",
    "\n",
    "N = int(input()) #size of number\n",
    "a = list(map(int,input().split())) # N elements or integers\n",
    "\n",
    "def lcm_of_two(a,b):\n",
    "    if a == 0 or b == 0:\n",
    "        return 0\n",
    "        \n",
    "    max_val = max(a,b)\n",
    "    lcm = max_val\n",
    "    while True:\n",
    "        if lcm%a == 0 and lcm%b == 0:\n",
    "            return lcm\n",
    "        else:\n",
    "            lcm += max_val\n",
    "\n",
    "result = a[0]\n",
    "for i in range(1,len(a)):\n",
    "    result = lcm_of_two(result,a[i])\n",
    "    \n",
    "print(result)"
   ]
  }
 ],
 "metadata": {
  "kernelspec": {
   "display_name": "Python 3 (ipykernel)",
   "language": "python",
   "name": "python3"
  },
  "language_info": {
   "codemirror_mode": {
    "name": "ipython",
    "version": 3
   },
   "file_extension": ".py",
   "mimetype": "text/x-python",
   "name": "python",
   "nbconvert_exporter": "python",
   "pygments_lexer": "ipython3",
   "version": "3.12.4"
  }
 },
 "nbformat": 4,
 "nbformat_minor": 5
}
