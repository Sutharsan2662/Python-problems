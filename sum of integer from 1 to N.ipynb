{
 "cells": [
  {
   "cell_type": "code",
   "execution_count": null,
   "id": "6d2e7149-e944-4956-896f-66b56a9603aa",
   "metadata": {},
   "outputs": [],
   "source": [
    "# Write a code to get an integer N and print the sum of  values from 1 to N.\n",
    "# Input Description:\n",
    "# A single line contains an integer N.\n",
    "\n",
    "# Output Description:\n",
    "# Print the sum of values from 1 to N.\n",
    "\n",
    "# Sample Input :\n",
    "# 10\n",
    "# Sample Output :\n",
    "# 55\n",
    "userInput = int(input())\n",
    "\n",
    "res = 0\n",
    "for i in range(1,userInput+1):\n",
    "    res += i\n",
    "    \n",
    "print(res)"
   ]
  }
 ],
 "metadata": {
  "kernelspec": {
   "display_name": "Python 3 (ipykernel)",
   "language": "python",
   "name": "python3"
  },
  "language_info": {
   "codemirror_mode": {
    "name": "ipython",
    "version": 3
   },
   "file_extension": ".py",
   "mimetype": "text/x-python",
   "name": "python",
   "nbconvert_exporter": "python",
   "pygments_lexer": "ipython3",
   "version": "3.12.4"
  }
 },
 "nbformat": 4,
 "nbformat_minor": 5
}
