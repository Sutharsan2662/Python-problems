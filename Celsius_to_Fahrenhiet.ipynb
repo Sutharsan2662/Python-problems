{
 "cells": [
  {
   "cell_type": "code",
   "execution_count": null,
   "id": "e0922c8d-f707-4fd2-a494-21b7999b06ee",
   "metadata": {},
   "outputs": [],
   "source": [
    "userInput = float(input())\n",
    "\n",
    "def fah(C):\n",
    "    F = ((9/5)*C) + 32\n",
    "    Fah = round(F,2)\n",
    "    print(Fah)\n",
    "    \n",
    "ans = fah(userInput)"
   ]
  }
 ],
 "metadata": {
  "kernelspec": {
   "display_name": "Python 3 (ipykernel)",
   "language": "python",
   "name": "python3"
  },
  "language_info": {
   "codemirror_mode": {
    "name": "ipython",
    "version": 3
   },
   "file_extension": ".py",
   "mimetype": "text/x-python",
   "name": "python",
   "nbconvert_exporter": "python",
   "pygments_lexer": "ipython3",
   "version": "3.12.4"
  }
 },
 "nbformat": 4,
 "nbformat_minor": 5
}
