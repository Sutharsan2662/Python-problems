{
 "cells": [
  {
   "cell_type": "code",
   "execution_count": null,
   "id": "284e352b-2a89-4943-a0b8-2146eb41eb1e",
   "metadata": {},
   "outputs": [],
   "source": [
    "userInput = input()\n",
    "\n",
    "if userInput == \"0\":\n",
    "    print(\"NULL\")\n",
    "else:\n",
    "    result = [str(9 * i) for i in range(1, int(userInput) + 1)]  # List comprehension\n",
    "    print(\" \".join(result))  # Join the list into a single string with spaces\n",
    "        "
   ]
  }
 ],
 "metadata": {
  "kernelspec": {
   "display_name": "Python 3 (ipykernel)",
   "language": "python",
   "name": "python3"
  },
  "language_info": {
   "codemirror_mode": {
    "name": "ipython",
    "version": 3
   },
   "file_extension": ".py",
   "mimetype": "text/x-python",
   "name": "python",
   "nbconvert_exporter": "python",
   "pygments_lexer": "ipython3",
   "version": "3.12.4"
  }
 },
 "nbformat": 4,
 "nbformat_minor": 5
}
