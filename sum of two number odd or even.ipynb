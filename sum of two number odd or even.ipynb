{
 "cells": [
  {
   "cell_type": "code",
   "execution_count": null,
   "id": "de178aff-d1ad-478e-99d7-9a53b8be1cf2",
   "metadata": {},
   "outputs": [],
   "source": [
    "# Given 2 numbers N and M add both the numbers and check whether the sum is odd or even.\n",
    "# Sample Testcase :\n",
    "# INPUT\n",
    "# 9 2\n",
    "# OUTPUT\n",
    "# odd\n",
    "a,b = map(int,input().split())\n",
    "\n",
    "if (a+b)%2 == 0:\n",
    "    print(\"even\")\n",
    "else:\n",
    "    print(\"odd\")"
   ]
  }
 ],
 "metadata": {
  "kernelspec": {
   "display_name": "Python 3 (ipykernel)",
   "language": "python",
   "name": "python3"
  },
  "language_info": {
   "codemirror_mode": {
    "name": "ipython",
    "version": 3
   },
   "file_extension": ".py",
   "mimetype": "text/x-python",
   "name": "python",
   "nbconvert_exporter": "python",
   "pygments_lexer": "ipython3",
   "version": "3.12.4"
  }
 },
 "nbformat": 4,
 "nbformat_minor": 5
}
