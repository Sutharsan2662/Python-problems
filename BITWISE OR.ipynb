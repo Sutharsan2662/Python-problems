{
 "cells": [
  {
   "cell_type": "code",
   "execution_count": null,
   "id": "715d5deb-3d0b-4456-b930-72e686661a23",
   "metadata": {},
   "outputs": [],
   "source": [
    "# Given a number N and an array of N elements, find the Bitwise OR of the array elements.\n",
    "# Input Size : N <= 100000\n",
    "# Sample Testcase :\n",
    "# INPUT\n",
    "# 2\n",
    "# 2 4\n",
    "# OUTPUT\n",
    "# 6\n",
    "\n",
    "n = int(input())\n",
    "\n",
    "a = list(map(int,input().split()))\n",
    "\n",
    "res = 0\n",
    "for i in a:\n",
    "    res |= i\n",
    "    \n",
    "print(res)\n",
    "    \n",
    "    "
   ]
  }
 ],
 "metadata": {
  "kernelspec": {
   "display_name": "Python 3 (ipykernel)",
   "language": "python",
   "name": "python3"
  },
  "language_info": {
   "codemirror_mode": {
    "name": "ipython",
    "version": 3
   },
   "file_extension": ".py",
   "mimetype": "text/x-python",
   "name": "python",
   "nbconvert_exporter": "python",
   "pygments_lexer": "ipython3",
   "version": "3.12.4"
  }
 },
 "nbformat": 4,
 "nbformat_minor": 5
}
