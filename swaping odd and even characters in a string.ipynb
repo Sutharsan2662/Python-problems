{
 "cells": [
  {
   "cell_type": "code",
   "execution_count": null,
   "id": "e235d46a-4eab-473f-90b0-db88a01a2597",
   "metadata": {},
   "outputs": [],
   "source": [
    "# Given a string 'S' swap the even and odd characters starting from index 1(Assume the index starts from 0).\n",
    "# Input Size : |s| <= 10000000(complexity O(n))\n",
    "# Sample Testcase :\n",
    "# INPUT\n",
    "# codekata\n",
    "# OUTPUT\n",
    "# ocedakat\n",
    "n = input()\n",
    "\n",
    "arr = list(n)\n",
    "\n",
    "for i in range(1,len(arr),2):\n",
    "    arr[i],arr[i-1] = arr[i-1], arr[i]\n",
    "    \n",
    "print(\"\".join(arr))"
   ]
  }
 ],
 "metadata": {
  "kernelspec": {
   "display_name": "Python 3 (ipykernel)",
   "language": "python",
   "name": "python3"
  },
  "language_info": {
   "codemirror_mode": {
    "name": "ipython",
    "version": 3
   },
   "file_extension": ".py",
   "mimetype": "text/x-python",
   "name": "python",
   "nbconvert_exporter": "python",
   "pygments_lexer": "ipython3",
   "version": "3.12.4"
  }
 },
 "nbformat": 4,
 "nbformat_minor": 5
}
