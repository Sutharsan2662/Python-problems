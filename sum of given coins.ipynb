{
 "cells": [
  {
   "cell_type": "code",
   "execution_count": null,
   "id": "38871a90-ee18-49f1-ba1d-b01850478e6f",
   "metadata": {},
   "outputs": [],
   "source": [
    "# Given a list of N coins, their values (V1, V2, … , VN), and the total sum S. Find the minimum number of coins the sum of which is S (we can use as many coins of one type as we want), if it is not possible to select coins in such a way that they sum up to S then print '-1'.\n",
    "# Example: Given coins with values 1, 3, and 5. And the sum S is 11.\n",
    "# Output: 3, 2 coins of 3 and 1 coin of 5\n",
    "# Input Size : N<=10000\n",
    "# Example:\n",
    "# INPUT\n",
    "# 3 11\n",
    "# 1 3 5\n",
    "# OUTPUT\n",
    "# 3\n",
    "n, s = map(int, input().split())\n",
    "\n",
    "coin = list(map(int, input().split()))\n",
    "\n",
    "coin.sort(reverse=True)  # Sort coins in descending order\n",
    "count = 0\n",
    "remaining_s = s\n",
    "\n",
    "for i in coin:\n",
    "    while remaining_s >= i:\n",
    "        remaining_s -= i\n",
    "        count += 1\n",
    "\n",
    "if remaining_s == 0:\n",
    "    print(count)\n",
    "else:\n",
    "    print(-1)  # If remaining_s is not 0, it's impossible to make the sum"
   ]
  }
 ],
 "metadata": {
  "kernelspec": {
   "display_name": "Python 3 (ipykernel)",
   "language": "python",
   "name": "python3"
  },
  "language_info": {
   "codemirror_mode": {
    "name": "ipython",
    "version": 3
   },
   "file_extension": ".py",
   "mimetype": "text/x-python",
   "name": "python",
   "nbconvert_exporter": "python",
   "pygments_lexer": "ipython3",
   "version": "3.12.4"
  }
 },
 "nbformat": 4,
 "nbformat_minor": 5
}
