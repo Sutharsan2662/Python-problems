{
 "cells": [
  {
   "cell_type": "code",
   "execution_count": null,
   "id": "6f80c061-de02-405b-9f5f-0ecff2df8a2c",
   "metadata": {},
   "outputs": [],
   "source": [
    "#Removing white spaces in a sentence and printing the number of letters\n",
    "userInput = input()\n",
    "\n",
    "arr = list(userInput)\n",
    "\n",
    "for i in arr[:]:\n",
    "    if i == \" \":\n",
    "        arr.remove(i)\n",
    "\n",
    "    \n",
    "print(len(arr))"
   ]
  }
 ],
 "metadata": {
  "kernelspec": {
   "display_name": "Python 3 (ipykernel)",
   "language": "python",
   "name": "python3"
  },
  "language_info": {
   "codemirror_mode": {
    "name": "ipython",
    "version": 3
   },
   "file_extension": ".py",
   "mimetype": "text/x-python",
   "name": "python",
   "nbconvert_exporter": "python",
   "pygments_lexer": "ipython3",
   "version": "3.12.4"
  }
 },
 "nbformat": 4,
 "nbformat_minor": 5
}
