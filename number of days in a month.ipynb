{
 "cells": [
  {
   "cell_type": "code",
   "execution_count": null,
   "id": "ffa1d5b2-8526-4e1e-883f-c94b00f60825",
   "metadata": {},
   "outputs": [],
   "source": [
    "#number of days in a month\n",
    "userInput = int(input())\n",
    "if userInput < 8:\n",
    "    if userInput == 0:\n",
    "        print(\"Error\")\n",
    "    elif userInput == 2:\n",
    "        print(28)\n",
    "    elif userInput%2 == 1:\n",
    "        print(31)\n",
    "    else:\n",
    "        print(30)\n",
    "        \n",
    "if userInput >= 8:\n",
    "    if userInput > 12:\n",
    "        print(\"Error\")\n",
    "    elif userInput%2 == 1:\n",
    "        print(30)\n",
    "    else:\n",
    "        print(31)"
   ]
  }
 ],
 "metadata": {
  "kernelspec": {
   "display_name": "Python 3 (ipykernel)",
   "language": "python",
   "name": "python3"
  },
  "language_info": {
   "codemirror_mode": {
    "name": "ipython",
    "version": 3
   },
   "file_extension": ".py",
   "mimetype": "text/x-python",
   "name": "python",
   "nbconvert_exporter": "python",
   "pygments_lexer": "ipython3",
   "version": "3.12.4"
  }
 },
 "nbformat": 4,
 "nbformat_minor": 5
}
