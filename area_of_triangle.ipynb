{
 "cells": [
  {
   "cell_type": "code",
   "execution_count": null,
   "id": "d5ba7ccb-2495-4912-b729-d1dcf4039d0f",
   "metadata": {},
   "outputs": [],
   "source": [
    "import math\n",
    "userInput = float(input())\n",
    "\n",
    "def area_of_triangle(side):\n",
    "    \n",
    "    area_1 = 0.25*(math.sqrt(3)*side**2)\n",
    "    area = round(area_1,2)\n",
    "    print(area)\n",
    "    \n",
    "ans = area_of_triangle(userInput)"
   ]
  }
 ],
 "metadata": {
  "kernelspec": {
   "display_name": "Python 3 (ipykernel)",
   "language": "python",
   "name": "python3"
  },
  "language_info": {
   "codemirror_mode": {
    "name": "ipython",
    "version": 3
   },
   "file_extension": ".py",
   "mimetype": "text/x-python",
   "name": "python",
   "nbconvert_exporter": "python",
   "pygments_lexer": "ipython3",
   "version": "3.12.4"
  }
 },
 "nbformat": 4,
 "nbformat_minor": 5
}
