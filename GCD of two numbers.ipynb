{
 "cells": [
  {
   "cell_type": "code",
   "execution_count": null,
   "id": "6483def4-e2da-4d85-8057-82dbf82690c6",
   "metadata": {},
   "outputs": [],
   "source": [
    "#find the GCD of two numbers\n",
    "n,m = map(int,input().split())\n",
    "\n",
    "if n==0 or m==0:\n",
    "    print(-1)\n",
    "elif n%m == 0:\n",
    "    print(m)\n",
    "else:\n",
    "    print(1)"
   ]
  }
 ],
 "metadata": {
  "kernelspec": {
   "display_name": "Python 3 (ipykernel)",
   "language": "python",
   "name": "python3"
  },
  "language_info": {
   "codemirror_mode": {
    "name": "ipython",
    "version": 3
   },
   "file_extension": ".py",
   "mimetype": "text/x-python",
   "name": "python",
   "nbconvert_exporter": "python",
   "pygments_lexer": "ipython3",
   "version": "3.12.4"
  }
 },
 "nbformat": 4,
 "nbformat_minor": 5
}
