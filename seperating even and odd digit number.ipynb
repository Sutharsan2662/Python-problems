{
 "cells": [
  {
   "cell_type": "code",
   "execution_count": null,
   "id": "43e40ed2-90eb-4484-aa61-20716e9cfda8",
   "metadata": {},
   "outputs": [],
   "source": [
    "#printing odd and even digit number in a seperate line\n",
    "a = int(input())\n",
    "arr = []\n",
    "while (a>0):\n",
    "   arr.insert(0,a % 10)\n",
    "   a = a//10\n",
    "arr.sort()\n",
    "odd = []\n",
    "even = []\n",
    "\n",
    "for i in range(len(arr)):\n",
    "   arr[i] = int(arr[i])\n",
    "   if arr[i]%2 == 0:\n",
    "       even.append(str(arr[i]))\n",
    "   else:\n",
    "        odd.append(str(arr[i]))\n",
    "        \n",
    "print(\" \".join(even))\n",
    "print(\" \".join(odd))\n",
    "       \n",
    "    "
   ]
  }
 ],
 "metadata": {
  "kernelspec": {
   "display_name": "Python 3 (ipykernel)",
   "language": "python",
   "name": "python3"
  },
  "language_info": {
   "codemirror_mode": {
    "name": "ipython",
    "version": 3
   },
   "file_extension": ".py",
   "mimetype": "text/x-python",
   "name": "python",
   "nbconvert_exporter": "python",
   "pygments_lexer": "ipython3",
   "version": "3.12.4"
  }
 },
 "nbformat": 4,
 "nbformat_minor": 5
}
