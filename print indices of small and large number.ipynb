{
 "cells": [
  {
   "cell_type": "code",
   "execution_count": null,
   "id": "71791519-9a90-4abb-a0a4-abe42ed1adac",
   "metadata": {},
   "outputs": [],
   "source": [
    "# Given a number N followed by N numbers.Find the smallest number and largest number and print both the indices(1 based indexing).\n",
    "# Input Size : N <= 100000\n",
    "# Sample Testcase :\n",
    "# INPUT\n",
    "# 5\n",
    "# 1 2 3 4 5\n",
    "# OUTPUT\n",
    "# 1 5\n",
    "n = int(input())\n",
    "\n",
    "ele = list(map(int,input().split()))\n",
    "\n",
    "high = max(ele)\n",
    "low = min(ele)\n",
    "\n",
    "res = [ele.index(low)+1, ele.index(high)+1]\n",
    "\n",
    "print(\" \".join(map(str,res)))\n",
    "    "
   ]
  }
 ],
 "metadata": {
  "kernelspec": {
   "display_name": "Python 3 (ipykernel)",
   "language": "python",
   "name": "python3"
  },
  "language_info": {
   "codemirror_mode": {
    "name": "ipython",
    "version": 3
   },
   "file_extension": ".py",
   "mimetype": "text/x-python",
   "name": "python",
   "nbconvert_exporter": "python",
   "pygments_lexer": "ipython3",
   "version": "3.12.4"
  }
 },
 "nbformat": 4,
 "nbformat_minor": 5
}
