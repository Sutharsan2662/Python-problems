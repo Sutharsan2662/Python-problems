{
 "cells": [
  {
   "cell_type": "code",
   "execution_count": null,
   "id": "496317c3-e636-4382-a8e9-97dc280ecf3b",
   "metadata": {},
   "outputs": [],
   "source": [
    "#Bitwise AND for N numbers\n",
    "\n",
    "size = int(input())\n",
    "\n",
    "ele = list(map(int,input().split()))\n",
    "\n",
    "res = ele[0]\n",
    "for i in range(1,len(ele)):\n",
    "    res &= ele[i]\n",
    "        \n",
    "print(res)"
   ]
  }
 ],
 "metadata": {
  "kernelspec": {
   "display_name": "Python 3 (ipykernel)",
   "language": "python",
   "name": "python3"
  },
  "language_info": {
   "codemirror_mode": {
    "name": "ipython",
    "version": 3
   },
   "file_extension": ".py",
   "mimetype": "text/x-python",
   "name": "python",
   "nbconvert_exporter": "python",
   "pygments_lexer": "ipython3",
   "version": "3.12.4"
  }
 },
 "nbformat": 4,
 "nbformat_minor": 5
}
