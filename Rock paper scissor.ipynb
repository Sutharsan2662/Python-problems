{
 "cells": [
  {
   "cell_type": "code",
   "execution_count": null,
   "id": "76eb2c06-dea4-453c-bc6c-f0a4dae0d891",
   "metadata": {},
   "outputs": [],
   "source": [
    "#Rock paper scissor game\n",
    "\n",
    "a,b = map(str,input().split())\n",
    "\n",
    "if a == b:\n",
    "    print(\"D\")\n",
    "elif (a == 'R' and b == 'P') or (a == 'P' and b == 'R'):\n",
    "    print(\"P\")\n",
    "elif (a == 'R' and b == 'S') or (a == 'S' and b == 'R'):\n",
    "    print(\"R\")\n",
    "else:\n",
    "    print(\"S\")\n",
    "\n"
   ]
  }
 ],
 "metadata": {
  "kernelspec": {
   "display_name": "Python 3 (ipykernel)",
   "language": "python",
   "name": "python3"
  },
  "language_info": {
   "codemirror_mode": {
    "name": "ipython",
    "version": 3
   },
   "file_extension": ".py",
   "mimetype": "text/x-python",
   "name": "python",
   "nbconvert_exporter": "python",
   "pygments_lexer": "ipython3",
   "version": "3.12.4"
  }
 },
 "nbformat": 4,
 "nbformat_minor": 5
}
