{
 "cells": [
  {
   "cell_type": "code",
   "execution_count": null,
   "id": "7b85eda4-5c91-41cc-a771-11debe46c9f4",
   "metadata": {},
   "outputs": [],
   "source": [
    "#print the prime numbers in the given range integer\n",
    "\n",
    "l,r = map(int,input().split())\n",
    "\n",
    "def is_prime(n):\n",
    "    \"\"\"Checks if a number is prime.\"\"\"\n",
    "    if n <= 1:\n",
    "        return False\n",
    "    if n <= 3:\n",
    "        return True\n",
    "    if n % 2 == 0 or n % 3 == 0:\n",
    "        return False\n",
    "    i = 5\n",
    "    while i * i <= n:\n",
    "        if n % i == 0 or n % (i + 2) == 0:\n",
    "            return False\n",
    "        i += 6\n",
    "    return True\n",
    "    \n",
    "primes = 0\n",
    "for num in range(l, r + 1):\n",
    "    if is_prime(num):\n",
    "        primes += 1\n",
    "        \n",
    "print(primes)"
   ]
  }
 ],
 "metadata": {
  "kernelspec": {
   "display_name": "Python 3 (ipykernel)",
   "language": "python",
   "name": "python3"
  },
  "language_info": {
   "codemirror_mode": {
    "name": "ipython",
    "version": 3
   },
   "file_extension": ".py",
   "mimetype": "text/x-python",
   "name": "python",
   "nbconvert_exporter": "python",
   "pygments_lexer": "ipython3",
   "version": "3.12.4"
  }
 },
 "nbformat": 4,
 "nbformat_minor": 5
}
