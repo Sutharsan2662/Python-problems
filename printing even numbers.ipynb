{
 "cells": [
  {
   "cell_type": "code",
   "execution_count": null,
   "id": "278ee59f-66e1-49ab-a17f-317831c43bd3",
   "metadata": {},
   "outputs": [],
   "source": [
    "#printing even numbers from 1 to N\n",
    "userInput = int(input())\n",
    "\n",
    "for i in range(1,userInput+1):\n",
    "    if i%2 == 0:\n",
    "        print(i)"
   ]
  }
 ],
 "metadata": {
  "kernelspec": {
   "display_name": "Python 3 (ipykernel)",
   "language": "python",
   "name": "python3"
  },
  "language_info": {
   "codemirror_mode": {
    "name": "ipython",
    "version": 3
   },
   "file_extension": ".py",
   "mimetype": "text/x-python",
   "name": "python",
   "nbconvert_exporter": "python",
   "pygments_lexer": "ipython3",
   "version": "3.12.4"
  }
 },
 "nbformat": 4,
 "nbformat_minor": 5
}
