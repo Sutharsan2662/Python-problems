{
 "cells": [
  {
   "cell_type": "code",
   "execution_count": null,
   "id": "c7f77ef8-2dbb-4853-bba5-a1daf83835c1",
   "metadata": {},
   "outputs": [],
   "source": [
    "#with the given coordinates as input find whether they can form square or not\n",
    "\n",
    "a,b = map(int,input().split())\n",
    "c,d = map(int,input().split())\n",
    "e,f = map(int,input().split())\n",
    "g,h = map(int,input().split())\n",
    "\n",
    "if a == b == c == h:\n",
    "    print(\"yes\")\n",
    "else:\n",
    "    print(\"no\")"
   ]
  }
 ],
 "metadata": {
  "kernelspec": {
   "display_name": "Python 3 (ipykernel)",
   "language": "python",
   "name": "python3"
  },
  "language_info": {
   "codemirror_mode": {
    "name": "ipython",
    "version": 3
   },
   "file_extension": ".py",
   "mimetype": "text/x-python",
   "name": "python",
   "nbconvert_exporter": "python",
   "pygments_lexer": "ipython3",
   "version": "3.12.4"
  }
 },
 "nbformat": 4,
 "nbformat_minor": 5
}
