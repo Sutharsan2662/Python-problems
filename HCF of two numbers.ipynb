{
 "cells": [
  {
   "cell_type": "code",
   "execution_count": null,
   "id": "9129a283-a4ef-4a43-bb9e-a97be49448d8",
   "metadata": {},
   "outputs": [],
   "source": [
    "userInput = input()\n",
    "\n",
    "arr = userInput.split()\n",
    "\n",
    "for i in range(len(arr)):\n",
    "    arr[i] = int(arr[i])\n",
    "    \n",
    "while(arr[1] > 0):\n",
    "    arr[0], arr[1] = arr[1], arr[0]%arr[1]\n",
    "print(arr[0])"
   ]
  }
 ],
 "metadata": {
  "kernelspec": {
   "display_name": "Python 3 (ipykernel)",
   "language": "python",
   "name": "python3"
  },
  "language_info": {
   "codemirror_mode": {
    "name": "ipython",
    "version": 3
   },
   "file_extension": ".py",
   "mimetype": "text/x-python",
   "name": "python",
   "nbconvert_exporter": "python",
   "pygments_lexer": "ipython3",
   "version": "3.12.4"
  }
 },
 "nbformat": 4,
 "nbformat_minor": 5
}
