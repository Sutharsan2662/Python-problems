{
 "cells": [
  {
   "cell_type": "code",
   "execution_count": null,
   "id": "79ac4d33-1d49-454a-a994-514d1076e52b",
   "metadata": {},
   "outputs": [],
   "source": [
    "sides = list(map(int,input().split()))\n",
    "\n",
    "if (sides[0]**2 + sides[1]**2 == sides[2]**2):\n",
    "    print(\"yes\")\n",
    "else:\n",
    "    print(\"no\")"
   ]
  }
 ],
 "metadata": {
  "kernelspec": {
   "display_name": "Python 3 (ipykernel)",
   "language": "python",
   "name": "python3"
  },
  "language_info": {
   "codemirror_mode": {
    "name": "ipython",
    "version": 3
   },
   "file_extension": ".py",
   "mimetype": "text/x-python",
   "name": "python",
   "nbconvert_exporter": "python",
   "pygments_lexer": "ipython3",
   "version": "3.12.4"
  }
 },
 "nbformat": 4,
 "nbformat_minor": 5
}
