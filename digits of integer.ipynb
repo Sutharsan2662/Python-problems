{
 "cells": [
  {
   "cell_type": "code",
   "execution_count": null,
   "id": "169df9aa-e89d-4e68-9a59-8f67f400301b",
   "metadata": {},
   "outputs": [],
   "source": [
    "#printing digits of integer\n",
    "userInput = int(input())\n",
    "\n",
    "digit_sum = []\n",
    "while userInput > 0:\n",
    "    digit = userInput % 10\n",
    "    digit_sum.insert(0, str(digit))\n",
    "    userInput //= 10\n",
    "    \n",
    "print(\" \".join(digit_sum))"
   ]
  }
 ],
 "metadata": {
  "kernelspec": {
   "display_name": "Python 3 (ipykernel)",
   "language": "python",
   "name": "python3"
  },
  "language_info": {
   "codemirror_mode": {
    "name": "ipython",
    "version": 3
   },
   "file_extension": ".py",
   "mimetype": "text/x-python",
   "name": "python",
   "nbconvert_exporter": "python",
   "pygments_lexer": "ipython3",
   "version": "3.12.4"
  }
 },
 "nbformat": 4,
 "nbformat_minor": 5
}
