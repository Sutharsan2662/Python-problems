{
 "cells": [
  {
   "cell_type": "code",
   "execution_count": null,
   "id": "301c3243-5825-48b7-aff2-1af04b9585c0",
   "metadata": {},
   "outputs": [],
   "source": [
    "#finding simple interest\n",
    "userInput = input()\n",
    "arr = userInput.split()\n",
    "\n",
    "for i in range(len(arr)):\n",
    "    arr[i] = float(arr[i])\n",
    "\n",
    "SI = (arr[0]*arr[1]*arr[2])/100\n",
    "\n",
    "print(round(SI, 2))\n"
   ]
  }
 ],
 "metadata": {
  "kernelspec": {
   "display_name": "Python 3 (ipykernel)",
   "language": "python",
   "name": "python3"
  },
  "language_info": {
   "codemirror_mode": {
    "name": "ipython",
    "version": 3
   },
   "file_extension": ".py",
   "mimetype": "text/x-python",
   "name": "python",
   "nbconvert_exporter": "python",
   "pygments_lexer": "ipython3",
   "version": "3.12.4"
  }
 },
 "nbformat": 4,
 "nbformat_minor": 5
}
